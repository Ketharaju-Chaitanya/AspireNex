{
  "nbformat": 4,
  "nbformat_minor": 0,
  "metadata": {
    "colab": {
      "provenance": [],
      "gpuType": "T4"
    },
    "kernelspec": {
      "name": "python3",
      "display_name": "Python 3"
    },
    "language_info": {
      "name": "python"
    },
    "accelerator": "GPU"
  },
  "cells": [
    {
      "cell_type": "markdown",
      "source": [
        "**RECOMMENDATION SYSTEM:**\n",
        "\n",
        "*Task to Implement:*\n",
        "\n",
        "Create a simple recommendation system that suggests items to users\n",
        "based on their preferences. You can use techniques like collaborative\n",
        "filtering or content-based filtering to recommend movies, books, or\n",
        "products to users.\n",
        "\n"
      ],
      "metadata": {
        "id": "oZ8KWQfyqwva"
      }
    },
    {
      "cell_type": "markdown",
      "source": [
        "**Step 1:** Prepare the Data\n",
        "\n",
        "We will create a larger dataset of user-item interactions with random ratings."
      ],
      "metadata": {
        "id": "9vaFpSHTrEAZ"
      }
    },
    {
      "cell_type": "code",
      "source": [
        "import numpy as np\n",
        "import pandas as pd\n",
        "from sklearn.metrics.pairwise import cosine_similarity\n",
        "from scipy.sparse import csr_matrix\n",
        "\n",
        "#  To Generate a larger dataset:\n",
        "np.random.seed(42)\n",
        "users = [f'User{i}' for i in range(1, 21)]  # 20 users\n",
        "items = [f'Movie{i}' for i in range(1, 21)] # 20 items\n",
        "data = []\n",
        "\n",
        "for user in users:\n",
        "    for item in items:\n",
        "        if np.random.rand() > 0.7:  # 30% chance that the user has rated the movie\n",
        "            rating = np.random.randint(1, 6)  # Rating between 1 and 5\n",
        "            data.append([user, item, rating])\n",
        "\n",
        "# Covert data to Data Frame\n",
        "df = pd.DataFrame(data, columns=['User', 'Item', 'Rating'])\n",
        "print(df.head())\n"
      ],
      "metadata": {
        "colab": {
          "base_uri": "https://localhost:8080/"
        },
        "id": "tByK1zcLrUzA",
        "outputId": "0bbe8042-e5bf-42e3-d6f1-d16d54727bbc"
      },
      "execution_count": 6,
      "outputs": [
        {
          "output_type": "stream",
          "name": "stdout",
          "text": [
            "    User     Item  Rating\n",
            "0  User1   Movie2       3\n",
            "1  User1   Movie3       5\n",
            "2  User1   Movie7       4\n",
            "3  User1  Movie11       2\n",
            "4  User2   Movie3       3\n"
          ]
        }
      ]
    },
    {
      "cell_type": "markdown",
      "source": [
        "**Step 2**: Compute User Similarity\n",
        "\n",
        "We will compute the user similarity matrix using *cosine similarity*."
      ],
      "metadata": {
        "id": "bGVrZ9jdrY_g"
      }
    },
    {
      "cell_type": "code",
      "source": [
        "# Create a user-item matrix\n",
        "user_item_matrix = df.pivot_table(index='User', columns='Item', values='Rating').fillna(0)\n",
        "user_item_matrix_sparse = csr_matrix(user_item_matrix.values)\n",
        "\n",
        "# Compute cosine similarity between users\n",
        "user_similarity = cosine_similarity(user_item_matrix_sparse)\n",
        "user_similarity_df = pd.DataFrame(user_similarity, index=user_item_matrix.index, columns=user_item_matrix.index)\n",
        "\n",
        "print(user_similarity_df.head())\n"
      ],
      "metadata": {
        "colab": {
          "base_uri": "https://localhost:8080/"
        },
        "id": "6Ixm5ftQrmwJ",
        "outputId": "2c35a27b-c8d8-4089-81ab-40d5ec6eedf3"
      },
      "execution_count": 5,
      "outputs": [
        {
          "output_type": "stream",
          "name": "stdout",
          "text": [
            "User       User1    User10    User11    User12    User13    User14    User15  \\\n",
            "User                                                                           \n",
            "User1   1.000000  0.000000  0.228218  0.587945  0.296586  0.254588  0.000000   \n",
            "User10  0.000000  1.000000  0.273861  0.083992  0.124878  0.000000  0.547723   \n",
            "User11  0.228218  0.273861  1.000000  0.224271  0.525814  0.149404  0.450000   \n",
            "User12  0.587945  0.083992  0.224271  1.000000  0.017700  0.206197  0.184017   \n",
            "User13  0.296586  0.124878  0.525814  0.017700  1.000000  0.367884  0.000000   \n",
            "\n",
            "User      User16    User17    User18    User19     User2    User20     User3  \\\n",
            "User                                                                           \n",
            "User1   0.379049  0.365434  0.000000  0.406625  0.285831  0.000000  0.254837   \n",
            "User10  0.000000  0.536731  0.348651  0.048795  0.285831  0.503506  0.382255   \n",
            "User11  0.166091  0.469117  0.286446  0.293987  0.093934  0.413673  0.340226   \n",
            "User12  0.429801  0.051795  0.098833  0.461069  0.324102  0.000000  0.000000   \n",
            "User13  0.213007  0.423547  0.183680  0.534698  0.000000  0.286770  0.469894   \n",
            "\n",
            "User       User4     User5     User6     User7     User8     User9  \n",
            "User                                                                \n",
            "User1   0.471650  0.415049  0.000000  0.280056  0.000000  0.492366  \n",
            "User10  0.365148  0.207524  0.026189  0.000000  0.188982  0.061546  \n",
            "User11  0.487500  0.170499  0.107583  0.191741  0.483046  0.455085  \n",
            "User12  0.465794  0.000000  0.000000  0.000000  0.190476  0.093048  \n",
            "User13  0.500164  0.349856  0.220755  0.531150  0.460195  0.224807  \n"
          ]
        }
      ]
    },
    {
      "cell_type": "markdown",
      "source": [
        "**Step 3:** Generate Recommendations\n",
        "\n",
        "We will generate recommendations for a user based on similar users preferences"
      ],
      "metadata": {
        "id": "ixILHjUersMp"
      }
    },
    {
      "cell_type": "code",
      "source": [
        "def get_recommendations(user, user_similarity_df, user_item_matrix, n_recommendations=5):\n",
        "    #Get the series of similar users, sorted by similarity\n",
        "    similar_users = user_similarity_df[user].sort_values(ascending=False).index[1:]\n",
        "\n",
        "    # Get the ratings given by the target user\n",
        "    user_ratings = user_item_matrix.loc[user]\n",
        "\n",
        "    # Initialize a dictionary to store the recommendations\n",
        "    recommendations = {}\n",
        "\n",
        "    # Iterate through similar users\n",
        "    for similar_user in similar_users:\n",
        "        similar_user_ratings = user_item_matrix.loc[similar_user]\n",
        "\n",
        "        # Iterate through the items rated by the similar user\n",
        "        for item in similar_user_ratings.index:\n",
        "            if user_ratings[item] == 0 and similar_user_ratings[item] > 0:\n",
        "              # Recommend items not rated by the user\n",
        "                if item not in recommendations:\n",
        "                    recommendations[item] = similar_user_ratings[item]\n",
        "                else:\n",
        "                    recommendations[item] += similar_user_ratings[item]\n",
        "\n",
        "    # Sort recommendations by rating and return the top N recommendations\n",
        "    recommendations = sorted(recommendations.items(), key=lambda x: x[1], reverse=True)\n",
        "    return [item for item, rating in recommendations[:n_recommendations]]\n",
        "\n"
      ],
      "metadata": {
        "colab": {
          "base_uri": "https://localhost:8080/"
        },
        "id": "sWy2K77Or3y8",
        "outputId": "06c2daa1-da6d-423e-884a-df628524bb02"
      },
      "execution_count": 7,
      "outputs": [
        {
          "output_type": "stream",
          "name": "stdout",
          "text": [
            "Recommendations for User1: ['Movie12', 'Movie4', 'Movie16', 'Movie5', 'Movie18']\n"
          ]
        }
      ]
    },
    {
      "cell_type": "markdown",
      "source": [
        "**Step 4**: Get the Recommendation from the user.\n",
        "\n"
      ],
      "metadata": {
        "id": "RrzihjBNuZPm"
      }
    },
    {
      "cell_type": "code",
      "source": [
        "# Get recommendations for a specific user\n",
        "user = 'User1'\n",
        "recommendations = get_recommendations(user, user_similarity_df, user_item_matrix)\n",
        "print(f\"Recommendations for {user}: {recommendations}\")"
      ],
      "metadata": {
        "colab": {
          "base_uri": "https://localhost:8080/"
        },
        "id": "39owOMb1uhlu",
        "outputId": "f20c012b-0e51-4d49-c89b-a8d6befb598d"
      },
      "execution_count": 9,
      "outputs": [
        {
          "output_type": "stream",
          "name": "stdout",
          "text": [
            "Recommendations for User1: ['Movie12', 'Movie4', 'Movie16', 'Movie5', 'Movie18']\n"
          ]
        }
      ]
    }
  ]
}