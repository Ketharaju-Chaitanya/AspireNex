{
  "nbformat": 4,
  "nbformat_minor": 0,
  "metadata": {
    "colab": {
      "provenance": []
    },
    "kernelspec": {
      "name": "python3",
      "display_name": "Python 3"
    },
    "language_info": {
      "name": "python"
    }
  },
  "cells": [
    {
      "cell_type": "markdown",
      "source": [
        "**TIC - TAC -TOE AI**\n",
        "\n",
        "*Task to Implement:*\n",
        "\n",
        "\n",
        "\n",
        "\n",
        "\n",
        "Implement an AI agent that plays the classic game of Tic-Tac-Toe\n",
        "against a human player. You can use algorithms like Minimax with or\n",
        "without Alpha-Beta Pruning to make the AI player unbeatable.\n",
        "This project will help us understand your game theory and basic search algorithms."
      ],
      "metadata": {
        "id": "Dxnd988znNnQ"
      }
    },
    {
      "cell_type": "markdown",
      "source": [
        "**Step 1:**\n",
        "\n",
        "Define the game board and display it:\n",
        "We will use a list to list to represent tic-tac-toe board and a simple function to displayt it."
      ],
      "metadata": {
        "id": "8K8uce2GoY-n"
      }
    },
    {
      "cell_type": "code",
      "source": [
        "def print_board(board):\n",
        "    for row in range(3):\n",
        "        print(\"|\".join(board[row * 3:(row + 1) * 3]))\n",
        "        if row < 2:\n",
        "            print(\"-----\")"
      ],
      "metadata": {
        "id": "dgnkQdh7oVYR"
      },
      "execution_count": 3,
      "outputs": []
    },
    {
      "cell_type": "markdown",
      "source": [
        "**Step 2:**\n",
        "\n",
        "We will write a function to check if a player has won or if the game is a draw."
      ],
      "metadata": {
        "id": "v9eBsC56osZM"
      }
    },
    {
      "cell_type": "code",
      "source": [
        "def check_winner(board):\n",
        "    winning_combinations = [\n",
        "        [0, 1, 2], [3, 4, 5], [6, 7, 8],  # rows\n",
        "        [0, 3, 6], [1, 4, 7], [2, 5, 8],  # columns\n",
        "        [0, 4, 8], [2, 4, 6]              # diagonals\n",
        "    ]\n",
        "\n",
        "    for combo in winning_combinations:\n",
        "        if board[combo[0]] == board[combo[1]] == board[combo[2]] and board[combo[0]] != \" \":\n",
        "            return board[combo[0]]\n",
        "\n",
        "    if \" \" not in board:\n",
        "        return \"Draw\"\n",
        "\n",
        "    return None\n"
      ],
      "metadata": {
        "id": "RjQ8kC9Hor_M"
      },
      "execution_count": 2,
      "outputs": []
    },
    {
      "cell_type": "markdown",
      "source": [
        "**Step 3:**\n",
        "\n",
        "We will create the Minimax function with Alpha-Beta Pruning to determine the best move for the AI."
      ],
      "metadata": {
        "id": "ycVHrqkbpPBN"
      }
    },
    {
      "cell_type": "code",
      "source": [
        "def minimax(board, depth, is_maximizing, alpha, beta):\n",
        "    winner = check_winner(board)\n",
        "    if winner == \"X\":\n",
        "        return -10 + depth\n",
        "    if winner == \"O\":\n",
        "        return 10 - depth\n",
        "    if winner == \"Draw\":\n",
        "        return 0\n",
        "\n",
        "    if is_maximizing:\n",
        "        max_eval = float('-inf')\n",
        "        for i in range(9):\n",
        "            if board[i] == \" \":\n",
        "                board[i] = \"O\"\n",
        "                eval = minimax(board, depth + 1, False, alpha, beta)\n",
        "                board[i] = \" \"\n",
        "                max_eval = max(max_eval, eval)\n",
        "                alpha = max(alpha, eval)\n",
        "                if beta <= alpha:\n",
        "                    break\n",
        "        return max_eval\n",
        "    else:\n",
        "        min_eval = float('inf')\n",
        "        for i in range(9):\n",
        "            if board[i] == \" \":\n",
        "                board[i] = \"X\"\n",
        "                eval = minimax(board, depth + 1, True, alpha, beta)\n",
        "                board[i] = \" \"\n",
        "                min_eval = min(min_eval, eval)\n",
        "                beta = min(beta, eval)\n",
        "                if beta <= alpha:\n",
        "                    break\n",
        "        return min_eval\n",
        "\n",
        "def best_move(board):\n",
        "    best_val = float('-inf')\n",
        "    move = -1\n",
        "    for i in range(9):\n",
        "        if board[i] == \" \":\n",
        "            board[i] = \"O\"\n",
        "            move_val = minimax(board, 0, False, float('-inf'), float('inf'))\n",
        "            board[i] = \" \"\n",
        "            if move_val > best_val:\n",
        "                best_val = move_val\n",
        "                move = i\n",
        "    return move\n"
      ],
      "metadata": {
        "id": "mFl1-k2GpWw8"
      },
      "execution_count": 4,
      "outputs": []
    },
    {
      "cell_type": "markdown",
      "source": [
        "**Step 4:**\n",
        "\n",
        "We will write a function to handle the human player's move."
      ],
      "metadata": {
        "id": "dkZhI2Awpcij"
      }
    },
    {
      "cell_type": "code",
      "source": [
        "def human_move(board):\n",
        "    move = int(input(\"Enter your move (1-9): \")) - 1\n",
        "    if board[move] == \" \":\n",
        "        board[move] = \"X\"\n",
        "    else:\n",
        "        print(\"Invalid move! Try again.\")\n",
        "        human_move(board)\n"
      ],
      "metadata": {
        "id": "9nwJULEFpix7"
      },
      "execution_count": 5,
      "outputs": []
    },
    {
      "cell_type": "markdown",
      "source": [
        "**Step 5:**\n",
        "\n",
        "Finally, we'll create the game loop that alternates between the human player and the AI until there's a winner or a draw."
      ],
      "metadata": {
        "id": "BciHCzIhppxz"
      }
    },
    {
      "cell_type": "code",
      "source": [
        "def play_game():\n",
        "    board = [\" \" for _ in range(9)]\n",
        "    while True:\n",
        "        print_board(board)\n",
        "        human_move(board)\n",
        "        if check_winner(board):\n",
        "            break\n",
        "        ai_move = best_move(board)\n",
        "        board[ai_move] = \"O\"\n",
        "        if check_winner(board):\n",
        "            break\n",
        "    print_board(board)\n",
        "    winner = check_winner(board)\n",
        "    if winner == \"Draw\":\n",
        "        print(\"It's a draw!\")\n",
        "    else:\n",
        "        print(f\"{winner} wins!\")\n",
        "\n",
        "play_game()\n"
      ],
      "metadata": {
        "colab": {
          "base_uri": "https://localhost:8080/"
        },
        "id": "rptoHkEIpvnU",
        "outputId": "bc10f5e5-34bc-4ef1-a9b8-06ea0d5e8d00"
      },
      "execution_count": 6,
      "outputs": [
        {
          "output_type": "stream",
          "name": "stdout",
          "text": [
            " | | \n",
            "-----\n",
            " | | \n",
            "-----\n",
            " | | \n",
            "Enter your move (1-9): 1\n",
            "X| | \n",
            "-----\n",
            " |O| \n",
            "-----\n",
            " | | \n",
            "Enter your move (1-9): 2\n",
            "X|X|O\n",
            "-----\n",
            " |O| \n",
            "-----\n",
            " | | \n",
            "Enter your move (1-9): 4\n",
            "X|X|O\n",
            "-----\n",
            "X|O| \n",
            "-----\n",
            "O| | \n",
            "O wins!\n"
          ]
        }
      ]
    }
  ]
}